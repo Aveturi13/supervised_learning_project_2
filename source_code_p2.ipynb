{
 "cells": [
  {
   "cell_type": "markdown",
   "metadata": {},
   "source": [
    "# Supervised Learning  Coursework 2 - Part 2"
   ]
  },
  {
   "cell_type": "markdown",
   "metadata": {
    "heading_collapsed": true
   },
   "source": [
    "## Importing Libraries"
   ]
  },
  {
   "cell_type": "code",
   "execution_count": 1,
   "metadata": {
    "hidden": true
   },
   "outputs": [],
   "source": [
    "# Import libraries\n",
    "import numpy as np\n",
    "from scipy.stats import mode \n",
    "import cupy as cp\n",
    "from matplotlib import pyplot as plt\n",
    "from itertools import combinations\n",
    "import seaborn as sns\n",
    "import pandas as pd\n",
    "import time\n",
    "import json\n",
    "import os"
   ]
  },
  {
   "cell_type": "markdown",
   "metadata": {},
   "source": [
    "## Implementing models"
   ]
  },
  {
   "cell_type": "markdown",
   "metadata": {},
   "source": [
    "### K-Nearest Neighbors"
   ]
  },
  {
   "cell_type": "code",
   "execution_count": 2,
   "metadata": {},
   "outputs": [],
   "source": [
    "class KNN():\n",
    "    \n",
    "    \"\"\" Manual Implementation of KNN algorithm \"\"\"\n",
    "    \n",
    "    def __init__(self, data, labels, k):\n",
    "        self.k = k\n",
    "        self.data = data\n",
    "        self.labels = labels\n",
    "        \n",
    "    def calc_distance(self, point1, point2):\n",
    "        \"\"\" Calculates the euclidean distance between two points \"\"\"\n",
    "        distance = cp.linalg.norm(cp.asarray(point1) - cp.asarray(point2), axis=1)\n",
    "        return cp.sqrt(distance).get()\n",
    "    \n",
    "    def get_nearest_neighbors(self, test_point):\n",
    "        \"\"\" Returns the k nearest neighbors indices \"\"\"\n",
    "        distances = self.calc_distance(self.data, test_point)\n",
    "        nearest_neighbors = np.argsort(distances)[:self.k]\n",
    "        return nearest_neighbors\n",
    "        \n",
    "    def predict(self, test_point):\n",
    "        \"\"\" Predicts the class of a test point based on k nearest neighbors  \"\"\"\n",
    "        nearest_neighbors = self.get_nearest_neighbors(test_point)\n",
    "        nearest_labels = self.labels[nearest_neighbors]\n",
    "        pred = mode(nearest_labels)[0]\n",
    "        return pred"
   ]
  },
  {
   "cell_type": "markdown",
   "metadata": {},
   "source": [
    "### Linear Regression"
   ]
  },
  {
   "cell_type": "code",
   "execution_count": 13,
   "metadata": {},
   "outputs": [],
   "source": [
    "class Linear_Regression():\n",
    "    \n",
    "    \"\"\" Manual Implementation of Linear Regression \"\"\"\n",
    "    \n",
    "    def __init__(self):\n",
    "        self.w = None\n",
    "#         self.b = None\n",
    "     \n",
    "    def fit(self, X, y, add_bias_col=True):\n",
    "        \n",
    "        # Dimensions\n",
    "        m, n = X.shape\n",
    "\n",
    "        self.w = np.linalg.pinv(X.T @ X) @ X.T @ y\n",
    "\n",
    "        assert self.w.shape == (n, )\n",
    "        \n",
    "    def predict(self, X):\n",
    "        pred = X@self.w #+ self.b\n",
    "        pred = np.where(pred > 0.0, 1.0, -1.0)\n",
    "        return pred"
   ]
  },
  {
   "cell_type": "markdown",
   "metadata": {},
   "source": [
    "### Perceptron"
   ]
  },
  {
   "cell_type": "code",
   "execution_count": 34,
   "metadata": {},
   "outputs": [],
   "source": [
    "class Perceptron():\n",
    "    def __init__(self):\n",
    "        self.w = None\n",
    "    \n",
    "    def fit(self, X, y):\n",
    "        \n",
    "        # Dimensions\n",
    "        m, n = X.shape\n",
    "        \n",
    "        # Weights and mistakes\n",
    "        self.w = np.zeros(n)\n",
    "        M = 0\n",
    "        \n",
    "        for t in range(m):\n",
    "            # Recieve pattern\n",
    "            x_t = X[t]\n",
    "            \n",
    "            # Predict\n",
    "            pred = np.sign(np.dot(self.w, x_t))\n",
    "            \n",
    "            # Recieve true label\n",
    "            y_t = y[t]\n",
    "            \n",
    "            # Update\n",
    "            if y_t*pred <= 0:\n",
    "                self.w += y_t*x_t\n",
    "                M += 1\n",
    "    \n",
    "    def predict(self, X):\n",
    "        pred = X @ self.w.T\n",
    "        pred = np.where(pred > 0, 1.0, -1.0)\n",
    "        return pred\n",
    "    \n",
    "    def evaluate(self, X, y):\n",
    "        pred = self.predict(X)\n",
    "        mistakes = np.where(pred != y, 1.0, 0.0)\n",
    "        return np.mean(mistakes)"
   ]
  },
  {
   "cell_type": "markdown",
   "metadata": {},
   "source": [
    "### Winnow"
   ]
  },
  {
   "cell_type": "code",
   "execution_count": 39,
   "metadata": {},
   "outputs": [],
   "source": [
    "class Winnow():\n",
    "    def __init__(self):\n",
    "        self.w = None\n",
    "    \n",
    "    def fit(self, X, y):\n",
    "        \n",
    "        # Dimensions\n",
    "        m, n = X.shape\n",
    "        \n",
    "        # Weights and mistakes\n",
    "        self.w = np.ones(n)\n",
    "        \n",
    "        for t in range(m):\n",
    "            # Recieve pattern\n",
    "            x_t = X[t]\n",
    "            \n",
    "            # Predict\n",
    "            pred = 1 if np.dot(self.w, x_t) >= n else 0\n",
    "            \n",
    "            # Recieve true label\n",
    "            y_t = y[t]\n",
    "            \n",
    "            # Update\n",
    "            if pred != y_t:\n",
    "                self.w = self.w * np.power(2.0, ((y_t - pred)*x_t))\n",
    "    \n",
    "    def predict(self, X):\n",
    "        m, n = X.shape\n",
    "        pred = np.dot(X, self.w) \n",
    "        pred = np.where(pred >= n, 1.0, 0.0)\n",
    "        return pred\n",
    "    \n",
    "    def evaluate(self, X, y):\n",
    "        pred = self.predict(X)\n",
    "        mistakes = np.where(pred != y, 1.0, 0.0)\n",
    "        return np.mean(mistakes)"
   ]
  },
  {
   "cell_type": "markdown",
   "metadata": {},
   "source": [
    "## Sample Complexity Function"
   ]
  },
  {
   "cell_type": "code",
   "execution_count": 11,
   "metadata": {},
   "outputs": [],
   "source": [
    "def compute_sample_complexity(algorithm, m_max, N, n_train_sets, epsilon):\n",
    "    \n",
    "    sample_complexities = []\n",
    "    \n",
    "    for n in range(1, N+1):\n",
    "        \n",
    "        np.random.seed(1303)\n",
    "        \n",
    "        # Generate 20 training sets of size (m_max, n)\n",
    "        # Values for Winnow must be from set {0, 1} while rest are {-1, +1}\n",
    "        # Points generated uniformly\n",
    "        if algorithm == \"winnow\":\n",
    "            X_train = np.random.choice([0, 1], size=(n_train_sets, m_max, n))\n",
    "            X_test = np.random.choice([0, 1], size=(600, n))\n",
    "        else:\n",
    "            X_train = np.random.choice([-1, 1], size=(n_train_sets, m_max, n))\n",
    "            X_test = np.random.choice([-1, 1], size=(600, n))\n",
    "        \n",
    "        for m in range(1, m_max):\n",
    "        \n",
    "            # Select subsets of the data\n",
    "            X_subsets = X_train[:, :m, :]\n",
    "\n",
    "            assert X_subsets.shape == (n_train_sets, m, n)\n",
    "            \n",
    "            # Train specified algorithm\n",
    "            if algorithm == \"1NN\":\n",
    "                \n",
    "                total_error = 0\n",
    "                \n",
    "                for i in range(n_train_sets):\n",
    "                    \n",
    "                    # Setup model\n",
    "                    model = KNN(X_subsets[i], X_subsets[i, :, 0], k=1)\n",
    "                    \n",
    "                    mistakes = 0\n",
    "                    # Predict on test points\n",
    "                    for t in range(len(X_test)):\n",
    "                        pred = model.predict(X_test[t])\n",
    "                        mistakes += 1 if pred != X_test[t, 0] else 0\n",
    "\n",
    "                    # Compute generalization error for the single model\n",
    "                    total_error += mistakes / len(X_test)\n",
    "                \n",
    "                # Compute generalization error\n",
    "                GE = total_error / n_train_sets\n",
    "                \n",
    "                # Break out of loop if the GE is <= epsilon\n",
    "                if GE <= epsilon:\n",
    "                    sample_complexities.append(m)\n",
    "                    print(\"Sample complexity for n = {} : {}...GE = {}\".format(n, m, GE))\n",
    "                    break\n",
    "                \n",
    "            elif algorithm == \"LR\":\n",
    "                \n",
    "                total_error = 0\n",
    "                \n",
    "                for i in range(n_train_sets):\n",
    "                    \n",
    "                    # Setup model\n",
    "                    model = Linear_Regression()\n",
    "\n",
    "                    # Fit model\n",
    "                    model.fit(X_subsets[i], X_subsets[i, :, 0])\n",
    "\n",
    "                    # Predict on test points\n",
    "                    preds = model.predict(X_test)\n",
    "\n",
    "                    # Compute generalization error for the single model\n",
    "                    mistakes = np.where(preds != X_test[:, 0], 1.0, 0.0)\n",
    "\n",
    "                    total_error += np.mean(mistakes)\n",
    "                \n",
    "                # Compute generalization error\n",
    "                GE = total_error / n_train_sets\n",
    "                \n",
    "                # Break out of loop if the GE is <= epsilon\n",
    "                if GE <= epsilon:\n",
    "                    sample_complexities.append(m)\n",
    "                    print(\"Sample complexity for n = {} : {}...GE = {}\".format(n, m, GE))\n",
    "                    break\n",
    "                \n",
    "            elif algorithm == \"perceptron\":\n",
    "                \n",
    "                total_error = 0\n",
    "                \n",
    "                for i in range(n_train_sets):\n",
    "                    \n",
    "                    # Setup model\n",
    "                    model = Perceptron()\n",
    "\n",
    "                    # Fit model\n",
    "                    model.fit(X_subsets[i], X_subsets[i, :, 0])\n",
    "\n",
    "                    # Predict on test points\n",
    "                    preds = model.predict(X_test)\n",
    "\n",
    "                    # Compute generalization error for the single model\n",
    "                    mistakes = np.where(preds != X_test[:, 0], 1.0, 0.0)\n",
    "                    total_error += np.mean(mistakes)\n",
    "                \n",
    "                # Compute generalization error\n",
    "                GE = total_error / n_train_sets\n",
    "                \n",
    "                # Break out of loop if the GE is <= epsilon\n",
    "                if GE <= epsilon:\n",
    "                    sample_complexities.append(m)\n",
    "                    print(\"Sample complexity for n = {} : {}...GE = {}\".format(n, m, GE))\n",
    "                    break\n",
    "                \n",
    "            elif algorithm == \"winnow\":\n",
    "                \n",
    "                total_error = 0\n",
    "                \n",
    "                for i in range(n_train_sets):\n",
    "                    \n",
    "                    # Setup model\n",
    "                    model = Winnow()\n",
    "\n",
    "                    # Fit model\n",
    "                    model.fit(X_subsets[i], X_subsets[i, :, 0])\n",
    "\n",
    "                    # Predict on test points\n",
    "                    preds = model.predict(X_test)\n",
    "\n",
    "                    # Compute generalization error for the single model\n",
    "                    mistakes = np.where(preds != X_test[:, 0], 1.0, 0.0)\n",
    "                    total_error += np.mean(mistakes)\n",
    "                \n",
    "                # Compute generalization error\n",
    "                GE = total_error / n_train_sets\n",
    "                \n",
    "                # Break out of loop if the GE is <= epsilon\n",
    "                if GE <= epsilon:\n",
    "                    sample_complexities.append(m)\n",
    "                    print(\"Sample complexity for n = {} : {}...GE = {}\".format(n, m, GE))\n",
    "                    break\n",
    "                \n",
    "    return sample_complexities"
   ]
  },
  {
   "cell_type": "markdown",
   "metadata": {},
   "source": [
    "## Compute Sample Complexity for Least Squares Regression"
   ]
  },
  {
   "cell_type": "code",
   "execution_count": 16,
   "metadata": {
    "scrolled": true
   },
   "outputs": [
    {
     "name": "stdout",
     "output_type": "stream",
     "text": [
      "Sample complexity for n = 1 : 1...GE = 0.0\n",
      "Sample complexity for n = 2 : 1...GE = 0.0\n",
      "Sample complexity for n = 3 : 2...GE = 0.07274999999999998\n",
      "Sample complexity for n = 4 : 4...GE = 0.06701666666666667\n",
      "Sample complexity for n = 5 : 5...GE = 0.05935000000000001\n",
      "Sample complexity for n = 6 : 5...GE = 0.09420000000000002\n",
      "Sample complexity for n = 7 : 6...GE = 0.07296666666666671\n",
      "Sample complexity for n = 8 : 6...GE = 0.08501666666666668\n",
      "Sample complexity for n = 9 : 6...GE = 0.0956666666666666\n",
      "Sample complexity for n = 10 : 7...GE = 0.09805000000000003\n",
      "Sample complexity for n = 11 : 8...GE = 0.06629999999999998\n",
      "Sample complexity for n = 12 : 9...GE = 0.06263333333333333\n",
      "Sample complexity for n = 13 : 9...GE = 0.08378333333333333\n",
      "Sample complexity for n = 14 : 9...GE = 0.09143333333333337\n",
      "Sample complexity for n = 15 : 10...GE = 0.09333333333333331\n",
      "Sample complexity for n = 16 : 10...GE = 0.09611666666666667\n",
      "Sample complexity for n = 17 : 12...GE = 0.07501666666666666\n",
      "Sample complexity for n = 18 : 12...GE = 0.07996666666666664\n",
      "Sample complexity for n = 19 : 13...GE = 0.08018333333333334\n",
      "Sample complexity for n = 20 : 13...GE = 0.09695000000000001\n",
      "Sample complexity for n = 21 : 13...GE = 0.09928333333333335\n",
      "Sample complexity for n = 22 : 14...GE = 0.09271666666666663\n",
      "Sample complexity for n = 23 : 15...GE = 0.09543333333333334\n",
      "Sample complexity for n = 24 : 16...GE = 0.08283333333333331\n",
      "Sample complexity for n = 25 : 16...GE = 0.09549999999999993\n",
      "Sample complexity for n = 26 : 18...GE = 0.08128333333333333\n",
      "Sample complexity for n = 27 : 17...GE = 0.09969999999999998\n",
      "Sample complexity for n = 28 : 18...GE = 0.09595000000000001\n",
      "Sample complexity for n = 29 : 19...GE = 0.09333333333333331\n",
      "Sample complexity for n = 30 : 20...GE = 0.09116666666666663\n",
      "Sample complexity for n = 31 : 19...GE = 0.09538333333333338\n",
      "Sample complexity for n = 32 : 21...GE = 0.08709999999999997\n",
      "Sample complexity for n = 33 : 21...GE = 0.09933333333333336\n",
      "Sample complexity for n = 34 : 22...GE = 0.09128333333333334\n",
      "Sample complexity for n = 35 : 22...GE = 0.09313333333333333\n",
      "Sample complexity for n = 36 : 23...GE = 0.09431666666666666\n",
      "Sample complexity for n = 37 : 24...GE = 0.09843333333333333\n",
      "Sample complexity for n = 38 : 24...GE = 0.09874999999999998\n",
      "Sample complexity for n = 39 : 25...GE = 0.0946666666666667\n",
      "Sample complexity for n = 40 : 25...GE = 0.09985000000000008\n",
      "Sample complexity for n = 41 : 26...GE = 0.09575000000000002\n",
      "Sample complexity for n = 42 : 27...GE = 0.09989999999999999\n",
      "Sample complexity for n = 43 : 28...GE = 0.09099999999999998\n",
      "Sample complexity for n = 44 : 28...GE = 0.09476666666666667\n",
      "Sample complexity for n = 45 : 29...GE = 0.0900333333333333\n",
      "Sample complexity for n = 46 : 29...GE = 0.0999333333333333\n",
      "Sample complexity for n = 47 : 30...GE = 0.09571666666666662\n",
      "Sample complexity for n = 48 : 31...GE = 0.09166666666666665\n",
      "Sample complexity for n = 49 : 32...GE = 0.08836666666666665\n",
      "Sample complexity for n = 50 : 32...GE = 0.0929333333333333\n",
      "Sample complexity for n = 51 : 32...GE = 0.09764999999999996\n",
      "Sample complexity for n = 52 : 33...GE = 0.09714999999999996\n",
      "Sample complexity for n = 53 : 34...GE = 0.09351666666666668\n",
      "Sample complexity for n = 54 : 35...GE = 0.08984999999999996\n",
      "Sample complexity for n = 55 : 35...GE = 0.09374999999999999\n",
      "Sample complexity for n = 56 : 36...GE = 0.0951333333333333\n",
      "Sample complexity for n = 57 : 37...GE = 0.09325000000000003\n",
      "Sample complexity for n = 58 : 36...GE = 0.09876666666666671\n",
      "Sample complexity for n = 59 : 37...GE = 0.09611666666666668\n",
      "Sample complexity for n = 60 : 38...GE = 0.09528333333333333\n",
      "Sample complexity for n = 61 : 40...GE = 0.09371666666666663\n",
      "Sample complexity for n = 62 : 39...GE = 0.09664999999999996\n",
      "Sample complexity for n = 63 : 41...GE = 0.09695000000000004\n",
      "Sample complexity for n = 64 : 41...GE = 0.09689999999999996\n",
      "Sample complexity for n = 65 : 41...GE = 0.09404999999999998\n",
      "Sample complexity for n = 66 : 42...GE = 0.09508333333333333\n",
      "Sample complexity for n = 67 : 43...GE = 0.09543333333333334\n",
      "Sample complexity for n = 68 : 43...GE = 0.09676666666666668\n",
      "Sample complexity for n = 69 : 44...GE = 0.09271666666666668\n",
      "Sample complexity for n = 70 : 44...GE = 0.09688333333333336\n",
      "Sample complexity for n = 71 : 44...GE = 0.0976333333333333\n",
      "Sample complexity for n = 72 : 45...GE = 0.09954999999999997\n",
      "Sample complexity for n = 73 : 46...GE = 0.09996666666666668\n",
      "Sample complexity for n = 74 : 47...GE = 0.09461666666666664\n",
      "Sample complexity for n = 75 : 48...GE = 0.09358333333333332\n",
      "Sample complexity for n = 76 : 48...GE = 0.09853333333333339\n",
      "Sample complexity for n = 77 : 48...GE = 0.09923333333333337\n",
      "Sample complexity for n = 78 : 50...GE = 0.09468333333333329\n",
      "Sample complexity for n = 79 : 49...GE = 0.09835000000000005\n",
      "Sample complexity for n = 80 : 50...GE = 0.09618333333333337\n",
      "Sample complexity for n = 81 : 52...GE = 0.09534999999999999\n",
      "Sample complexity for n = 82 : 53...GE = 0.09546666666666663\n",
      "Sample complexity for n = 83 : 51...GE = 0.09948333333333333\n",
      "Sample complexity for n = 84 : 52...GE = 0.09864999999999999\n",
      "Sample complexity for n = 85 : 55...GE = 0.09481666666666669\n",
      "Sample complexity for n = 86 : 55...GE = 0.09461666666666663\n",
      "Sample complexity for n = 87 : 54...GE = 0.09643333333333333\n",
      "Sample complexity for n = 88 : 56...GE = 0.09764999999999996\n",
      "Sample complexity for n = 89 : 55...GE = 0.0995833333333333\n",
      "Sample complexity for n = 90 : 57...GE = 0.09683333333333335\n",
      "Sample complexity for n = 91 : 56...GE = 0.09923333333333337\n",
      "Sample complexity for n = 92 : 57...GE = 0.09478333333333336\n",
      "Sample complexity for n = 93 : 58...GE = 0.09753333333333337\n",
      "Sample complexity for n = 94 : 59...GE = 0.09526666666666665\n",
      "Sample complexity for n = 95 : 59...GE = 0.09956666666666672\n",
      "Sample complexity for n = 96 : 61...GE = 0.09588333333333338\n",
      "Sample complexity for n = 97 : 62...GE = 0.09825\n",
      "Sample complexity for n = 98 : 62...GE = 0.0969\n",
      "Sample complexity for n = 99 : 63...GE = 0.09529999999999998\n",
      "Sample complexity for n = 100 : 63...GE = 0.09820000000000001\n"
     ]
    }
   ],
   "source": [
    "sample_complexities_LR = compute_sample_complexity(algorithm=\"LR\", m_max=1000, n_train_sets=100, N=100, epsilon=0.1)"
   ]
  },
  {
   "cell_type": "code",
   "execution_count": 32,
   "metadata": {},
   "outputs": [
    {
     "data": {
      "image/png": "[encoded data removed]",
      "text/plain": [
       "<Figure size 432x432 with 1 Axes>"
      ]
     },
     "metadata": {
      "needs_background": "light"
     },
     "output_type": "display_data"
    }
   ],
   "source": [
    "plt.figure(figsize=(6, 6))\n",
    "plt.plot(np.arange(1, len(sample_complexities_LR)+1), sample_complexities_LR, linestyle=\"--\")\n",
    "plt.xticks(np.arange(10, len(sample_complexities_LR), 10))\n",
    "plt.xlabel(\"n\")\n",
    "plt.ylabel(\"m\")\n",
    "plt.title(\"Least Squares Regression Sample Complexity Plot\")\n",
    "plt.show()"
   ]
  },
  {
   "cell_type": "markdown",
   "metadata": {},
   "source": [
    "## Compute Sample Complexity for Perceptron"
   ]
  },
  {
   "cell_type": "code",
   "execution_count": 35,
   "metadata": {
    "scrolled": true
   },
   "outputs": [
    {
     "name": "stdout",
     "output_type": "stream",
     "text": [
      "Sample complexity for n = 1 : 1...GE = 0.0\n",
      "Sample complexity for n = 2 : 3...GE = 0.07808333333333334\n",
      "Sample complexity for n = 3 : 4...GE = 0.09844999999999997\n",
      "Sample complexity for n = 4 : 5...GE = 0.09139999999999998\n",
      "Sample complexity for n = 5 : 7...GE = 0.09518333333333334\n",
      "Sample complexity for n = 6 : 9...GE = 0.08443333333333337\n",
      "Sample complexity for n = 7 : 10...GE = 0.0863166666666667\n",
      "Sample complexity for n = 8 : 11...GE = 0.09634999999999999\n",
      "Sample complexity for n = 9 : 14...GE = 0.09064999999999998\n",
      "Sample complexity for n = 10 : 15...GE = 0.09918333333333335\n",
      "Sample complexity for n = 11 : 17...GE = 0.09536666666666667\n",
      "Sample complexity for n = 12 : 20...GE = 0.09855\n",
      "Sample complexity for n = 13 : 22...GE = 0.09729999999999997\n",
      "Sample complexity for n = 14 : 24...GE = 0.09700000000000003\n",
      "Sample complexity for n = 15 : 25...GE = 0.09875000000000003\n",
      "Sample complexity for n = 16 : 26...GE = 0.09565\n",
      "Sample complexity for n = 17 : 27...GE = 0.09768333333333334\n",
      "Sample complexity for n = 18 : 30...GE = 0.09625\n",
      "Sample complexity for n = 19 : 32...GE = 0.09673333333333327\n",
      "Sample complexity for n = 20 : 32...GE = 0.09799999999999998\n",
      "Sample complexity for n = 21 : 39...GE = 0.09966666666666667\n",
      "Sample complexity for n = 22 : 36...GE = 0.09955000000000004\n",
      "Sample complexity for n = 23 : 39...GE = 0.09911666666666667\n",
      "Sample complexity for n = 24 : 42...GE = 0.09753333333333332\n",
      "Sample complexity for n = 25 : 44...GE = 0.0976166666666667\n",
      "Sample complexity for n = 26 : 43...GE = 0.09736666666666666\n",
      "Sample complexity for n = 27 : 48...GE = 0.09968333333333333\n",
      "Sample complexity for n = 28 : 48...GE = 0.0985333333333333\n",
      "Sample complexity for n = 29 : 51...GE = 0.0993333333333333\n",
      "Sample complexity for n = 30 : 53...GE = 0.09770000000000004\n",
      "Sample complexity for n = 31 : 55...GE = 0.09786666666666669\n",
      "Sample complexity for n = 32 : 57...GE = 0.09795\n",
      "Sample complexity for n = 33 : 57...GE = 0.09985000000000005\n",
      "Sample complexity for n = 34 : 58...GE = 0.09839999999999999\n",
      "Sample complexity for n = 35 : 61...GE = 0.09835\n",
      "Sample complexity for n = 36 : 64...GE = 0.09901666666666664\n",
      "Sample complexity for n = 37 : 64...GE = 0.09961666666666665\n",
      "Sample complexity for n = 38 : 67...GE = 0.09970000000000001\n",
      "Sample complexity for n = 39 : 69...GE = 0.09888333333333335\n",
      "Sample complexity for n = 40 : 67...GE = 0.0985833333333333\n",
      "Sample complexity for n = 41 : 75...GE = 0.09953333333333335\n",
      "Sample complexity for n = 42 : 73...GE = 0.09903333333333332\n",
      "Sample complexity for n = 43 : 78...GE = 0.0989\n",
      "Sample complexity for n = 44 : 76...GE = 0.09889999999999997\n",
      "Sample complexity for n = 45 : 80...GE = 0.09934999999999995\n",
      "Sample complexity for n = 46 : 77...GE = 0.09983333333333334\n",
      "Sample complexity for n = 47 : 82...GE = 0.09983333333333327\n",
      "Sample complexity for n = 48 : 83...GE = 0.09851666666666672\n",
      "Sample complexity for n = 49 : 89...GE = 0.0977333333333334\n",
      "Sample complexity for n = 50 : 87...GE = 0.0984\n",
      "Sample complexity for n = 51 : 91...GE = 0.09938333333333332\n",
      "Sample complexity for n = 52 : 92...GE = 0.0993333333333333\n",
      "Sample complexity for n = 53 : 94...GE = 0.09835000000000006\n",
      "Sample complexity for n = 54 : 96...GE = 0.09894999999999998\n",
      "Sample complexity for n = 55 : 98...GE = 0.09956666666666662\n",
      "Sample complexity for n = 56 : 98...GE = 0.09996666666666666\n",
      "Sample complexity for n = 57 : 101...GE = 0.09909999999999992\n",
      "Sample complexity for n = 58 : 104...GE = 0.09966666666666663\n",
      "Sample complexity for n = 59 : 105...GE = 0.09908333333333331\n",
      "Sample complexity for n = 60 : 111...GE = 0.09953333333333333\n",
      "Sample complexity for n = 61 : 110...GE = 0.09854999999999997\n",
      "Sample complexity for n = 62 : 106...GE = 0.09978333333333338\n",
      "Sample complexity for n = 63 : 115...GE = 0.09876666666666659\n",
      "Sample complexity for n = 64 : 113...GE = 0.09846666666666665\n",
      "Sample complexity for n = 65 : 116...GE = 0.09953333333333339\n",
      "Sample complexity for n = 66 : 119...GE = 0.09909999999999998\n",
      "Sample complexity for n = 67 : 122...GE = 0.09890000000000006\n",
      "Sample complexity for n = 68 : 119...GE = 0.0996166666666667\n",
      "Sample complexity for n = 69 : 125...GE = 0.09936666666666666\n",
      "Sample complexity for n = 70 : 126...GE = 0.09919999999999997\n",
      "Sample complexity for n = 71 : 134...GE = 0.0985333333333333\n",
      "Sample complexity for n = 72 : 129...GE = 0.09898333333333334\n",
      "Sample complexity for n = 73 : 134...GE = 0.09949999999999996\n",
      "Sample complexity for n = 74 : 133...GE = 0.09908333333333336\n",
      "Sample complexity for n = 75 : 139...GE = 0.09985000000000001\n",
      "Sample complexity for n = 76 : 142...GE = 0.09996666666666666\n",
      "Sample complexity for n = 77 : 139...GE = 0.09969999999999997\n",
      "Sample complexity for n = 78 : 135...GE = 0.0995833333333333\n",
      "Sample complexity for n = 79 : 144...GE = 0.09961666666666671\n",
      "Sample complexity for n = 80 : 146...GE = 0.09969999999999997\n",
      "Sample complexity for n = 81 : 149...GE = 0.09916666666666668\n",
      "Sample complexity for n = 82 : 147...GE = 0.09881666666666669\n",
      "Sample complexity for n = 83 : 155...GE = 0.09975000000000002\n",
      "Sample complexity for n = 84 : 152...GE = 0.09994999999999994\n",
      "Sample complexity for n = 85 : 160...GE = 0.09970000000000001\n",
      "Sample complexity for n = 86 : 155...GE = 0.09948333333333333\n",
      "Sample complexity for n = 87 : 158...GE = 0.09936666666666667\n",
      "Sample complexity for n = 88 : 152...GE = 0.09966666666666665\n",
      "Sample complexity for n = 89 : 160...GE = 0.09981666666666669\n",
      "Sample complexity for n = 90 : 164...GE = 0.09958333333333327\n",
      "Sample complexity for n = 91 : 169...GE = 0.0998333333333333\n",
      "Sample complexity for n = 92 : 168...GE = 0.09915000000000009\n",
      "Sample complexity for n = 93 : 172...GE = 0.09968333333333332\n",
      "Sample complexity for n = 94 : 170...GE = 0.09961666666666666\n",
      "Sample complexity for n = 95 : 173...GE = 0.09989999999999993\n",
      "Sample complexity for n = 96 : 176...GE = 0.09968333333333336\n",
      "Sample complexity for n = 97 : 179...GE = 0.09939999999999997\n",
      "Sample complexity for n = 98 : 180...GE = 0.0992666666666667\n",
      "Sample complexity for n = 99 : 185...GE = 0.09990000000000007\n",
      "Sample complexity for n = 100 : 176...GE = 0.09999999999999995\n"
     ]
    }
   ],
   "source": [
    "sample_complexities_per = compute_sample_complexity(algorithm=\"perceptron\", m_max=1000, n_train_sets=100, N=100, epsilon=0.1)"
   ]
  },
  {
   "cell_type": "code",
   "execution_count": 37,
   "metadata": {},
   "outputs": [
    {
     "data": {
      "image/png": "[encoded data removed]",
      "text/plain": [
       "<Figure size 432x432 with 1 Axes>"
      ]
     },
     "metadata": {
      "needs_background": "light"
     },
     "output_type": "display_data"
    }
   ],
   "source": [
    "plt.figure(figsize=(6, 6))\n",
    "plt.plot(np.arange(1, len(sample_complexities_per)+1), sample_complexities_per, linestyle=\"--\")\n",
    "plt.xticks(np.arange(10, len(sample_complexities_per)+1, 10))\n",
    "plt.xlabel(\"n\")\n",
    "plt.ylabel(\"m\")\n",
    "plt.title(\"Perceptron Sample Complexity Plot\")\n",
    "plt.show()"
   ]
  },
  {
   "cell_type": "markdown",
   "metadata": {},
   "source": [
    "## Compute sample complexities for winnow"
   ]
  },
  {
   "cell_type": "code",
   "execution_count": 40,
   "metadata": {
    "scrolled": true
   },
   "outputs": [
    {
     "name": "stdout",
     "output_type": "stream",
     "text": [
      "Sample complexity for n = 1 : 1...GE = 0.0\n",
      "Sample complexity for n = 2 : 4...GE = 0.07388333333333333\n",
      "Sample complexity for n = 3 : 10...GE = 0.08468333333333336\n",
      "Sample complexity for n = 4 : 9...GE = 0.0830333333333333\n",
      "Sample complexity for n = 5 : 14...GE = 0.09411666666666672\n",
      "Sample complexity for n = 6 : 16...GE = 0.09576666666666664\n",
      "Sample complexity for n = 7 : 15...GE = 0.09984999999999998\n",
      "Sample complexity for n = 8 : 16...GE = 0.09429999999999998\n",
      "Sample complexity for n = 9 : 16...GE = 0.09386666666666668\n",
      "Sample complexity for n = 10 : 18...GE = 0.09753333333333332\n",
      "Sample complexity for n = 11 : 20...GE = 0.09555000000000004\n",
      "Sample complexity for n = 12 : 19...GE = 0.09425000000000003\n",
      "Sample complexity for n = 13 : 23...GE = 0.08383333333333327\n",
      "Sample complexity for n = 14 : 24...GE = 0.09308333333333334\n",
      "Sample complexity for n = 15 : 21...GE = 0.09976666666666661\n",
      "Sample complexity for n = 16 : 21...GE = 0.09898333333333335\n",
      "Sample complexity for n = 17 : 20...GE = 0.09555000000000001\n",
      "Sample complexity for n = 18 : 24...GE = 0.0928666666666667\n",
      "Sample complexity for n = 19 : 25...GE = 0.09573333333333332\n",
      "Sample complexity for n = 20 : 21...GE = 0.09393333333333334\n",
      "Sample complexity for n = 21 : 24...GE = 0.09558333333333335\n",
      "Sample complexity for n = 22 : 26...GE = 0.08976666666666669\n",
      "Sample complexity for n = 23 : 25...GE = 0.09229999999999994\n",
      "Sample complexity for n = 24 : 23...GE = 0.09701666666666667\n",
      "Sample complexity for n = 25 : 25...GE = 0.0848166666666667\n",
      "Sample complexity for n = 26 : 28...GE = 0.09268333333333327\n",
      "Sample complexity for n = 27 : 27...GE = 0.09083333333333336\n",
      "Sample complexity for n = 28 : 29...GE = 0.09518333333333334\n",
      "Sample complexity for n = 29 : 26...GE = 0.09291666666666665\n",
      "Sample complexity for n = 30 : 26...GE = 0.09700000000000003\n",
      "Sample complexity for n = 31 : 27...GE = 0.09156666666666663\n",
      "Sample complexity for n = 32 : 27...GE = 0.09995000000000004\n",
      "Sample complexity for n = 33 : 30...GE = 0.09245\n",
      "Sample complexity for n = 34 : 26...GE = 0.09885000000000002\n",
      "Sample complexity for n = 35 : 27...GE = 0.09986666666666666\n",
      "Sample complexity for n = 36 : 28...GE = 0.09570000000000001\n",
      "Sample complexity for n = 37 : 29...GE = 0.09956666666666669\n",
      "Sample complexity for n = 38 : 31...GE = 0.08981666666666666\n",
      "Sample complexity for n = 39 : 30...GE = 0.09530000000000007\n",
      "Sample complexity for n = 40 : 31...GE = 0.08386666666666664\n",
      "Sample complexity for n = 41 : 27...GE = 0.09499999999999999\n",
      "Sample complexity for n = 42 : 30...GE = 0.09193333333333334\n",
      "Sample complexity for n = 43 : 30...GE = 0.09878333333333328\n",
      "Sample complexity for n = 44 : 30...GE = 0.09834999999999999\n",
      "Sample complexity for n = 45 : 30...GE = 0.0964\n",
      "Sample complexity for n = 46 : 29...GE = 0.0970166666666667\n",
      "Sample complexity for n = 47 : 30...GE = 0.08926666666666662\n",
      "Sample complexity for n = 48 : 31...GE = 0.09353333333333338\n",
      "Sample complexity for n = 49 : 30...GE = 0.09503333333333332\n",
      "Sample complexity for n = 50 : 30...GE = 0.09885000000000004\n",
      "Sample complexity for n = 51 : 28...GE = 0.09561666666666667\n",
      "Sample complexity for n = 52 : 29...GE = 0.09980000000000003\n",
      "Sample complexity for n = 53 : 29...GE = 0.08916666666666671\n",
      "Sample complexity for n = 54 : 31...GE = 0.08650000000000002\n",
      "Sample complexity for n = 55 : 31...GE = 0.08113333333333334\n",
      "Sample complexity for n = 56 : 31...GE = 0.09770000000000004\n",
      "Sample complexity for n = 57 : 31...GE = 0.09135000000000001\n",
      "Sample complexity for n = 58 : 30...GE = 0.09233333333333327\n",
      "Sample complexity for n = 59 : 31...GE = 0.09808333333333337\n",
      "Sample complexity for n = 60 : 33...GE = 0.09055000000000002\n",
      "Sample complexity for n = 61 : 29...GE = 0.09838333333333336\n",
      "Sample complexity for n = 62 : 29...GE = 0.09188333333333336\n",
      "Sample complexity for n = 63 : 32...GE = 0.09066666666666663\n",
      "Sample complexity for n = 64 : 33...GE = 0.08663333333333334\n",
      "Sample complexity for n = 65 : 31...GE = 0.08858333333333332\n",
      "Sample complexity for n = 66 : 29...GE = 0.0974666666666667\n",
      "Sample complexity for n = 67 : 33...GE = 0.09693333333333332\n",
      "Sample complexity for n = 68 : 32...GE = 0.09876666666666666\n",
      "Sample complexity for n = 69 : 34...GE = 0.09536666666666661\n",
      "Sample complexity for n = 70 : 31...GE = 0.09118333333333334\n",
      "Sample complexity for n = 71 : 34...GE = 0.08996666666666667\n",
      "Sample complexity for n = 72 : 32...GE = 0.09698333333333332\n",
      "Sample complexity for n = 73 : 32...GE = 0.09583333333333334\n",
      "Sample complexity for n = 74 : 33...GE = 0.09254999999999997\n",
      "Sample complexity for n = 75 : 35...GE = 0.09645000000000001\n",
      "Sample complexity for n = 76 : 33...GE = 0.09428333333333334\n",
      "Sample complexity for n = 77 : 34...GE = 0.09579999999999998\n",
      "Sample complexity for n = 78 : 35...GE = 0.0981833333333333\n",
      "Sample complexity for n = 79 : 33...GE = 0.09658333333333338\n",
      "Sample complexity for n = 80 : 35...GE = 0.09143333333333332\n",
      "Sample complexity for n = 81 : 34...GE = 0.09455\n",
      "Sample complexity for n = 82 : 34...GE = 0.09706666666666669\n",
      "Sample complexity for n = 83 : 32...GE = 0.09293333333333337\n",
      "Sample complexity for n = 84 : 34...GE = 0.0916\n",
      "Sample complexity for n = 85 : 33...GE = 0.09931666666666664\n",
      "Sample complexity for n = 86 : 36...GE = 0.09465000000000001\n",
      "Sample complexity for n = 87 : 36...GE = 0.08771666666666667\n",
      "Sample complexity for n = 88 : 35...GE = 0.09648333333333337\n",
      "Sample complexity for n = 89 : 34...GE = 0.091\n",
      "Sample complexity for n = 90 : 34...GE = 0.09703333333333336\n",
      "Sample complexity for n = 91 : 32...GE = 0.09898333333333335\n",
      "Sample complexity for n = 92 : 36...GE = 0.09171666666666667\n",
      "Sample complexity for n = 93 : 35...GE = 0.09506666666666667\n",
      "Sample complexity for n = 94 : 36...GE = 0.09436666666666667\n",
      "Sample complexity for n = 95 : 31...GE = 0.09913333333333332\n",
      "Sample complexity for n = 96 : 34...GE = 0.09308333333333335\n",
      "Sample complexity for n = 97 : 35...GE = 0.09848333333333331\n",
      "Sample complexity for n = 98 : 37...GE = 0.09906666666666665\n",
      "Sample complexity for n = 99 : 35...GE = 0.0996166666666667\n",
      "Sample complexity for n = 100 : 35...GE = 0.09713333333333331\n"
     ]
    }
   ],
   "source": [
    "sample_complexities_winnow = compute_sample_complexity(algorithm=\"winnow\", m_max=1000, N=100, n_train_sets=100, epsilon=0.1)"
   ]
  },
  {
   "cell_type": "code",
   "execution_count": 41,
   "metadata": {},
   "outputs": [
    {
     "data": {
      "image/png": "[encoded data removed]",
      "text/plain": [
       "<Figure size 432x432 with 1 Axes>"
      ]
     },
     "metadata": {
      "needs_background": "light"
     },
     "output_type": "display_data"
    }
   ],
   "source": [
    "plt.figure(figsize=(6, 6))\n",
    "plt.plot(np.arange(1, len(sample_complexities_winnow)+1), sample_complexities_winnow, linestyle=\"--\")\n",
    "plt.xticks(np.arange(10, len(sample_complexities_winnow)+1, 10))\n",
    "plt.xlabel(\"n\")\n",
    "plt.ylabel(\"m\")\n",
    "plt.title(\"Winnow Sample Complexity Plot\")\n",
    "plt.show()"
   ]
  },
  {
   "cell_type": "markdown",
   "metadata": {},
   "source": [
    "## Compute sample complexities for 1NN"
   ]
  },
  {
   "cell_type": "code",
   "execution_count": 4,
   "metadata": {},
   "outputs": [
    {
     "name": "stdout",
     "output_type": "stream",
     "text": [
      "Sample complexity for n = 1 : 3...GE = 0.075\n",
      "Sample complexity for n = 2 : 5...GE = 0.0865\n",
      "Sample complexity for n = 3 : 11...GE = 0.09591666666666668\n",
      "Sample complexity for n = 4 : 12...GE = 0.09374999999999999\n",
      "Sample complexity for n = 5 : 23...GE = 0.09525\n",
      "Sample complexity for n = 6 : 29...GE = 0.09791666666666668\n",
      "Sample complexity for n = 7 : 51...GE = 0.09658333333333334\n",
      "Sample complexity for n = 8 : 80...GE = 0.09533333333333334\n",
      "Sample complexity for n = 9 : 119...GE = 0.09741666666666665\n",
      "Sample complexity for n = 10 : 172...GE = 0.09750000000000003\n",
      "Sample complexity for n = 11 : 259...GE = 0.1\n",
      "Sample complexity for n = 12 : 341...GE = 0.09891666666666668\n",
      "Sample complexity for n = 13 : 549...GE = 0.09966666666666665\n",
      "Sample complexity for n = 14 : 865...GE = 0.09975000000000002\n",
      "Sample complexity for n = 15 : 1201...GE = 0.09983333333333333\n"
     ]
    },
    {
     "ename": "KeyboardInterrupt",
     "evalue": "",
     "output_type": "error",
     "traceback": [
      "\u001b[0;31m---------------------------------------------------------------------------\u001b[0m",
      "\u001b[0;31mKeyboardInterrupt\u001b[0m                         Traceback (most recent call last)",
      "\u001b[0;32m<ipython-input-4-7f0f2239a29c>\u001b[0m in \u001b[0;36m<module>\u001b[0;34m\u001b[0m\n\u001b[0;32m----> 1\u001b[0;31m \u001b[0msample_complexities\u001b[0m \u001b[0;34m=\u001b[0m \u001b[0mcompute_sample_complexity\u001b[0m\u001b[0;34m(\u001b[0m\u001b[0malgorithm\u001b[0m\u001b[0;34m=\u001b[0m\u001b[0;34m\"1NN\"\u001b[0m\u001b[0;34m,\u001b[0m \u001b[0mm_max\u001b[0m\u001b[0;34m=\u001b[0m\u001b[0;36m2000\u001b[0m\u001b[0;34m,\u001b[0m \u001b[0mN\u001b[0m\u001b[0;34m=\u001b[0m\u001b[0;36m17\u001b[0m\u001b[0;34m,\u001b[0m \u001b[0mn_train_sets\u001b[0m\u001b[0;34m=\u001b[0m\u001b[0;36m20\u001b[0m\u001b[0;34m,\u001b[0m \u001b[0mepsilon\u001b[0m\u001b[0;34m=\u001b[0m\u001b[0;36m0.1\u001b[0m\u001b[0;34m)\u001b[0m\u001b[0;34m\u001b[0m\u001b[0;34m\u001b[0m\u001b[0m\n\u001b[0m",
      "\u001b[0;32m<ipython-input-3-5c112b58b5e7>\u001b[0m in \u001b[0;36mcompute_sample_complexity\u001b[0;34m(algorithm, m_max, N, n_train_sets, epsilon)\u001b[0m\n\u001b[1;32m     37\u001b[0m                     \u001b[0;31m# Predict on test points\u001b[0m\u001b[0;34m\u001b[0m\u001b[0;34m\u001b[0m\u001b[0;34m\u001b[0m\u001b[0m\n\u001b[1;32m     38\u001b[0m                     \u001b[0;32mfor\u001b[0m \u001b[0mt\u001b[0m \u001b[0;32min\u001b[0m \u001b[0mrange\u001b[0m\u001b[0;34m(\u001b[0m\u001b[0mlen\u001b[0m\u001b[0;34m(\u001b[0m\u001b[0mX_test\u001b[0m\u001b[0;34m)\u001b[0m\u001b[0;34m)\u001b[0m\u001b[0;34m:\u001b[0m\u001b[0;34m\u001b[0m\u001b[0;34m\u001b[0m\u001b[0m\n\u001b[0;32m---> 39\u001b[0;31m                         \u001b[0mpred\u001b[0m \u001b[0;34m=\u001b[0m \u001b[0mmodel\u001b[0m\u001b[0;34m.\u001b[0m\u001b[0mpredict\u001b[0m\u001b[0;34m(\u001b[0m\u001b[0mX_test\u001b[0m\u001b[0;34m[\u001b[0m\u001b[0mt\u001b[0m\u001b[0;34m]\u001b[0m\u001b[0;34m)\u001b[0m\u001b[0;34m\u001b[0m\u001b[0;34m\u001b[0m\u001b[0m\n\u001b[0m\u001b[1;32m     40\u001b[0m                         \u001b[0mmistakes\u001b[0m \u001b[0;34m+=\u001b[0m \u001b[0;36m1\u001b[0m \u001b[0;32mif\u001b[0m \u001b[0mpred\u001b[0m \u001b[0;34m!=\u001b[0m \u001b[0mX_test\u001b[0m\u001b[0;34m[\u001b[0m\u001b[0mt\u001b[0m\u001b[0;34m,\u001b[0m \u001b[0;36m0\u001b[0m\u001b[0;34m]\u001b[0m \u001b[0;32melse\u001b[0m \u001b[0;36m0\u001b[0m\u001b[0;34m\u001b[0m\u001b[0;34m\u001b[0m\u001b[0m\n\u001b[1;32m     41\u001b[0m \u001b[0;34m\u001b[0m\u001b[0m\n",
      "\u001b[0;32m<ipython-input-2-ae551bc03248>\u001b[0m in \u001b[0;36mpredict\u001b[0;34m(self, test_point)\u001b[0m\n\u001b[1;32m     21\u001b[0m     \u001b[0;32mdef\u001b[0m \u001b[0mpredict\u001b[0m\u001b[0;34m(\u001b[0m\u001b[0mself\u001b[0m\u001b[0;34m,\u001b[0m \u001b[0mtest_point\u001b[0m\u001b[0;34m)\u001b[0m\u001b[0;34m:\u001b[0m\u001b[0;34m\u001b[0m\u001b[0;34m\u001b[0m\u001b[0m\n\u001b[1;32m     22\u001b[0m         \u001b[0;34m\"\"\" Predicts the class of a test point based on k nearest neighbors  \"\"\"\u001b[0m\u001b[0;34m\u001b[0m\u001b[0;34m\u001b[0m\u001b[0m\n\u001b[0;32m---> 23\u001b[0;31m         \u001b[0mnearest_neighbors\u001b[0m \u001b[0;34m=\u001b[0m \u001b[0mself\u001b[0m\u001b[0;34m.\u001b[0m\u001b[0mget_nearest_neighbors\u001b[0m\u001b[0;34m(\u001b[0m\u001b[0mtest_point\u001b[0m\u001b[0;34m)\u001b[0m\u001b[0;34m\u001b[0m\u001b[0;34m\u001b[0m\u001b[0m\n\u001b[0m\u001b[1;32m     24\u001b[0m         \u001b[0mnearest_labels\u001b[0m \u001b[0;34m=\u001b[0m \u001b[0mself\u001b[0m\u001b[0;34m.\u001b[0m\u001b[0mlabels\u001b[0m\u001b[0;34m[\u001b[0m\u001b[0mnearest_neighbors\u001b[0m\u001b[0;34m]\u001b[0m\u001b[0;34m\u001b[0m\u001b[0;34m\u001b[0m\u001b[0m\n\u001b[1;32m     25\u001b[0m         \u001b[0mpred\u001b[0m \u001b[0;34m=\u001b[0m \u001b[0mmode\u001b[0m\u001b[0;34m(\u001b[0m\u001b[0mnearest_labels\u001b[0m\u001b[0;34m)\u001b[0m\u001b[0;34m[\u001b[0m\u001b[0;36m0\u001b[0m\u001b[0;34m]\u001b[0m\u001b[0;34m\u001b[0m\u001b[0;34m\u001b[0m\u001b[0m\n",
      "\u001b[0;32m<ipython-input-2-ae551bc03248>\u001b[0m in \u001b[0;36mget_nearest_neighbors\u001b[0;34m(self, test_point)\u001b[0m\n\u001b[1;32m     15\u001b[0m     \u001b[0;32mdef\u001b[0m \u001b[0mget_nearest_neighbors\u001b[0m\u001b[0;34m(\u001b[0m\u001b[0mself\u001b[0m\u001b[0;34m,\u001b[0m \u001b[0mtest_point\u001b[0m\u001b[0;34m)\u001b[0m\u001b[0;34m:\u001b[0m\u001b[0;34m\u001b[0m\u001b[0;34m\u001b[0m\u001b[0m\n\u001b[1;32m     16\u001b[0m         \u001b[0;34m\"\"\" Returns the k nearest neighbors indices \"\"\"\u001b[0m\u001b[0;34m\u001b[0m\u001b[0;34m\u001b[0m\u001b[0m\n\u001b[0;32m---> 17\u001b[0;31m         \u001b[0mdistances\u001b[0m \u001b[0;34m=\u001b[0m \u001b[0mself\u001b[0m\u001b[0;34m.\u001b[0m\u001b[0mcalc_distance\u001b[0m\u001b[0;34m(\u001b[0m\u001b[0mself\u001b[0m\u001b[0;34m.\u001b[0m\u001b[0mdata\u001b[0m\u001b[0;34m,\u001b[0m \u001b[0mtest_point\u001b[0m\u001b[0;34m)\u001b[0m\u001b[0;34m\u001b[0m\u001b[0;34m\u001b[0m\u001b[0m\n\u001b[0m\u001b[1;32m     18\u001b[0m         \u001b[0mnearest_neighbors\u001b[0m \u001b[0;34m=\u001b[0m \u001b[0mnp\u001b[0m\u001b[0;34m.\u001b[0m\u001b[0margsort\u001b[0m\u001b[0;34m(\u001b[0m\u001b[0mdistances\u001b[0m\u001b[0;34m)\u001b[0m\u001b[0;34m[\u001b[0m\u001b[0;34m:\u001b[0m\u001b[0mself\u001b[0m\u001b[0;34m.\u001b[0m\u001b[0mk\u001b[0m\u001b[0;34m]\u001b[0m\u001b[0;34m\u001b[0m\u001b[0;34m\u001b[0m\u001b[0m\n\u001b[1;32m     19\u001b[0m         \u001b[0;32mreturn\u001b[0m \u001b[0mnearest_neighbors\u001b[0m\u001b[0;34m\u001b[0m\u001b[0;34m\u001b[0m\u001b[0m\n",
      "\u001b[0;32m<ipython-input-2-ae551bc03248>\u001b[0m in \u001b[0;36mcalc_distance\u001b[0;34m(self, point1, point2)\u001b[0m\n\u001b[1;32m     10\u001b[0m     \u001b[0;32mdef\u001b[0m \u001b[0mcalc_distance\u001b[0m\u001b[0;34m(\u001b[0m\u001b[0mself\u001b[0m\u001b[0;34m,\u001b[0m \u001b[0mpoint1\u001b[0m\u001b[0;34m,\u001b[0m \u001b[0mpoint2\u001b[0m\u001b[0;34m)\u001b[0m\u001b[0;34m:\u001b[0m\u001b[0;34m\u001b[0m\u001b[0;34m\u001b[0m\u001b[0m\n\u001b[1;32m     11\u001b[0m         \u001b[0;34m\"\"\" Calculates the euclidean distance between two points \"\"\"\u001b[0m\u001b[0;34m\u001b[0m\u001b[0;34m\u001b[0m\u001b[0m\n\u001b[0;32m---> 12\u001b[0;31m         \u001b[0mdistance\u001b[0m \u001b[0;34m=\u001b[0m \u001b[0mcp\u001b[0m\u001b[0;34m.\u001b[0m\u001b[0mlinalg\u001b[0m\u001b[0;34m.\u001b[0m\u001b[0mnorm\u001b[0m\u001b[0;34m(\u001b[0m\u001b[0mcp\u001b[0m\u001b[0;34m.\u001b[0m\u001b[0masarray\u001b[0m\u001b[0;34m(\u001b[0m\u001b[0mpoint1\u001b[0m\u001b[0;34m)\u001b[0m \u001b[0;34m-\u001b[0m \u001b[0mcp\u001b[0m\u001b[0;34m.\u001b[0m\u001b[0masarray\u001b[0m\u001b[0;34m(\u001b[0m\u001b[0mpoint2\u001b[0m\u001b[0;34m)\u001b[0m\u001b[0;34m,\u001b[0m \u001b[0maxis\u001b[0m\u001b[0;34m=\u001b[0m\u001b[0;36m1\u001b[0m\u001b[0;34m)\u001b[0m\u001b[0;34m\u001b[0m\u001b[0;34m\u001b[0m\u001b[0m\n\u001b[0m\u001b[1;32m     13\u001b[0m         \u001b[0;32mreturn\u001b[0m \u001b[0mcp\u001b[0m\u001b[0;34m.\u001b[0m\u001b[0msqrt\u001b[0m\u001b[0;34m(\u001b[0m\u001b[0mdistance\u001b[0m\u001b[0;34m)\u001b[0m\u001b[0;34m.\u001b[0m\u001b[0mget\u001b[0m\u001b[0;34m(\u001b[0m\u001b[0;34m)\u001b[0m\u001b[0;34m\u001b[0m\u001b[0;34m\u001b[0m\u001b[0m\n\u001b[1;32m     14\u001b[0m \u001b[0;34m\u001b[0m\u001b[0m\n",
      "\u001b[0;31mKeyboardInterrupt\u001b[0m: "
     ]
    }
   ],
   "source": [
    "sample_complexities_1NN = compute_sample_complexity(algorithm=\"1NN\", m_max=2000, N=15, n_train_sets=20, epsilon=0.1)"
   ]
  },
  {
   "cell_type": "code",
   "execution_count": 42,
   "metadata": {},
   "outputs": [
    {
     "data": {
      "image/png": "[encoded data removed]",
      "text/plain": [
       "<Figure size 432x432 with 1 Axes>"
      ]
     },
     "metadata": {
      "needs_background": "light"
     },
     "output_type": "display_data"
    }
   ],
   "source": [
    "plt.figure(figsize=(6, 6))\n",
    "plt.plot(np.arange(1, len(sample_complexities)+1), sample_complexities, linestyle=\"--\")\n",
    "plt.xticks(np.arange(1, len(sample_complexities)+1))\n",
    "plt.xlabel(\"n\")\n",
    "plt.ylabel(\"m\")\n",
    "plt.title(\"1NN Sample Complexity Plot\")\n",
    "plt.show()"
   ]
  },
  {
   "cell_type": "code",
   "execution_count": null,
   "metadata": {},
   "outputs": [],
   "source": []
  }
 ],
 "metadata": {
  "kernelspec": {
   "display_name": "Python 3",
   "language": "python",
   "name": "python3"
  },
  "language_info": {
   "codemirror_mode": {
    "name": "ipython",
    "version": 3
   },
   "file_extension": ".py",
   "mimetype": "text/x-python",
   "name": "python",
   "nbconvert_exporter": "python",
   "pygments_lexer": "ipython3",
   "version": "3.8.5"
  },
  "toc": {
   "base_numbering": 1,
   "nav_menu": {},
   "number_sections": true,
   "sideBar": true,
   "skip_h1_title": false,
   "title_cell": "Table of Contents",
   "title_sidebar": "Contents",
   "toc_cell": false,
   "toc_position": {},
   "toc_section_display": true,
   "toc_window_display": false
  }
 },
 "nbformat": 4,
 "nbformat_minor": 4
}
